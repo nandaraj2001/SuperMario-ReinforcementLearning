{
 "cells": [
  {
   "cell_type": "markdown",
   "id": "8f4be408-13bc-4ac6-bd4d-25bff4c45685",
   "metadata": {},
   "source": [
    "## 1. Setup the game"
   ]
  },
  {
   "cell_type": "code",
   "execution_count": null,
   "id": "3fcd0de6-dd7f-45b0-8dfe-376529b5d1bd",
   "metadata": {
    "tags": []
   },
   "outputs": [],
   "source": [
    "!pip install gym_super_mario_bros==7.3.0 nes_py"
   ]
  },
  {
   "cell_type": "code",
   "execution_count": null,
   "id": "d4e6513c-f0c5-45de-87ad-120692770ee8",
   "metadata": {},
   "outputs": [],
   "source": [
    "from nes_py.wrappers import JoypadSpace\n",
    "import gym_super_mario_bros\n",
    "from gym_super_mario_bros.actions import SIMPLE_MOVEMENT\n",
    "import gym"
   ]
  },
  {
   "cell_type": "code",
   "execution_count": null,
   "id": "843fa539-7643-46cb-98b3-0080c35504b6",
   "metadata": {},
   "outputs": [],
   "source": [
    "from nes_py import NESEnv\n",
    "_reset = NESEnv.reset\n",
    "\n",
    "def reset(*args, **kwargs):\n",
    "    obs_info = _reset(*args, **kwargs)\n",
    "    obs, info = obs_info if type(obs_info) == tuple else (obs_info, {})\n",
    "    return obs, info\n",
    "\n",
    "NESEnv.reset = reset"
   ]
  },
  {
   "cell_type": "code",
   "execution_count": null,
   "id": "489d5e14-e508-4d18-b95e-63389b90e820",
   "metadata": {},
   "outputs": [],
   "source": [
    "SIMPLE_MOVEMENT"
   ]
  },
  {
   "cell_type": "code",
   "execution_count": null,
   "id": "2c565a9d-2ec7-4fec-bd3c-5e2dac774ba3",
   "metadata": {},
   "outputs": [],
   "source": [
    "# Setup game\n",
    "env = gym.make('SuperMarioBros2-v0', apply_api_compatibility=True, render_mode='human')\n",
    "# env.metadata['render.modes'] = ['human', 'rgb_array'] \n",
    "env = JoypadSpace(env, SIMPLE_MOVEMENT)"
   ]
  },
  {
   "cell_type": "code",
   "execution_count": null,
   "id": "71746990-f097-47b5-b835-2197460c156b",
   "metadata": {},
   "outputs": [],
   "source": [
    "SIMPLE_MOVEMENT[env.action_space.sample()]"
   ]
  },
  {
   "cell_type": "code",
   "execution_count": null,
   "id": "5a1ebfc6-0506-465f-9e51-464a58b40e4c",
   "metadata": {},
   "outputs": [],
   "source": [
    "# Create a flag - restart or not\n",
    "done = True\n",
    "for step in range(10000):\n",
    "    if done:\n",
    "        env.reset()\n",
    "    action = env.action_space.sample()\n",
    "    state, reward, terminated, truncated, info = env.step(action)\n",
    "    done = terminated or truncated\n",
    "    \n",
    "    env.render()\n",
    "env.close()"
   ]
  },
  {
   "cell_type": "markdown",
   "id": "2a5a3435-b489-46d3-9834-02f9c64fa714",
   "metadata": {},
   "source": [
    "## 2. Pre-processing\n"
   ]
  },
  {
   "cell_type": "code",
   "execution_count": null,
   "id": "cb192e73-0cfd-458d-9384-bb584c1e0101",
   "metadata": {},
   "outputs": [],
   "source": [
    "import numpy as np"
   ]
  },
  {
   "cell_type": "code",
   "execution_count": null,
   "id": "4af8c7b8-2f3f-4272-a108-b0cf04e15433",
   "metadata": {
    "tags": []
   },
   "outputs": [],
   "source": [
    "!pip3 install torch torchvision torchaudio"
   ]
  },
  {
   "cell_type": "code",
   "execution_count": null,
   "id": "7c6c6757-a261-40e7-ba10-7e1b77cc76d2",
   "metadata": {
    "tags": []
   },
   "outputs": [],
   "source": [
    "!pip install 'stable-baselines3[extra]' #to use RL Algorithms"
   ]
  },
  {
   "cell_type": "code",
   "execution_count": null,
   "id": "3064e610-e1af-4333-aa36-6657a0fad92d",
   "metadata": {},
   "outputs": [],
   "source": [
    "#Import Frame Stacker Wrapper(capture couple of frames) and Gray-scaling wrapper(coloured game to grayscale version, to cut down processing time)\n",
    "from gym.wrappers import FrameStack, GrayScaleObservation\n",
    "\n",
    "#Import Vectorization Wrappers\n",
    "from stable_baselines3.common.vec_env import VecFrameStack, DummyVecEnv\n",
    "\n",
    "#Import matplotlib\n",
    "from matplotlib import pyplot as plt\n"
   ]
  },
  {
   "cell_type": "code",
   "execution_count": null,
   "id": "4eb3a918-789b-47fd-9335-63c7a1e337b1",
   "metadata": {},
   "outputs": [],
   "source": [
    "# 1. Create the base environment\n",
    "env = gym_super_mario_bros.make('SuperMarioBros-v0')\n",
    "# 2. Simplify the controls \n",
    "env = JoypadSpace(env, SIMPLE_MOVEMENT)\n",
    "# 3. Grayscale\n",
    "env = GrayScaleObservation(env, keep_dim=True)\n",
    "# 4. Wrap inside the Dummy Environment\n",
    "env = DummyVecEnv([lambda: env])\n",
    "# 5. Stack the frames\n",
    "env = VecFrameStack(env, 4, channels_order='last')"
   ]
  },
  {
   "cell_type": "code",
   "execution_count": null,
   "id": "2baae1b8-d091-4fe5-8bd7-588c50e3b9ed",
   "metadata": {},
   "outputs": [],
   "source": [
    "state=env.reset()"
   ]
  },
  {
   "cell_type": "code",
   "execution_count": null,
   "id": "51cd0a3a-1c31-44f7-a279-4c91ee92a461",
   "metadata": {},
   "outputs": [],
   "source": [
    "type(state)"
   ]
  },
  {
   "cell_type": "code",
   "execution_count": null,
   "id": "aa8d4b0d-8d2f-475b-b6f3-8c3d013808df",
   "metadata": {},
   "outputs": [],
   "source": [
    "state.shape"
   ]
  },
  {
   "cell_type": "code",
   "execution_count": null,
   "id": "6a086fcb-5323-4f26-a1f9-771793b83339",
   "metadata": {},
   "outputs": [],
   "source": [
    "state, reward, terminated, truncated, info= env.step([env.action_space.sample()])"
   ]
  },
  {
   "cell_type": "code",
   "execution_count": null,
   "id": "9d75565c-5923-4869-9726-33291ccbf28d",
   "metadata": {},
   "outputs": [],
   "source": [
    "plt.imshow(state)"
   ]
  },
  {
   "cell_type": "markdown",
   "id": "92c49eca-0c72-49f7-a666-f7348a71c374",
   "metadata": {},
   "source": [
    "## 3. Model Training"
   ]
  },
  {
   "cell_type": "code",
   "execution_count": null,
   "id": "77dfb6c3-28ce-4a8a-a12e-1cfd1f2e0f05",
   "metadata": {},
   "outputs": [],
   "source": [
    "# Import os for file path management\n",
    "import os \n",
    "# Import PPO for algos\n",
    "from stable_baselines3 import PPO\n",
    "# Import Base Callback for saving models\n",
    "from stable_baselines3.common.callbacks import BaseCallback"
   ]
  },
  {
   "cell_type": "code",
   "execution_count": null,
   "id": "d02c7ebc-50ff-4408-9142-20d9b872b4f0",
   "metadata": {},
   "outputs": [],
   "source": [
    "class TrainAndLoggingCallback(BaseCallback):\n",
    "\n",
    "    def __init__(self, check_freq, save_path, verbose=1):\n",
    "        super(TrainAndLoggingCallback, self).__init__(verbose)\n",
    "        self.check_freq = check_freq\n",
    "        self.save_path = save_path\n",
    "\n",
    "    def _init_callback(self):\n",
    "        if self.save_path is not None:\n",
    "            os.makedirs(self.save_path, exist_ok=True)\n",
    "\n",
    "    def _on_step(self):\n",
    "        if self.n_calls % self.check_freq == 0:\n",
    "            model_path = os.path.join(self.save_path, 'best_model_{}'.format(self.n_calls))\n",
    "            self.model.save(model_path)\n",
    "\n",
    "        return True"
   ]
  },
  {
   "cell_type": "code",
   "execution_count": null,
   "id": "2036b9db-ae6c-4e38-85e9-07457201c4d7",
   "metadata": {},
   "outputs": [],
   "source": [
    "CHECKPOINT_DIR = './train/'\n",
    "LOG_DIR = './logs/'"
   ]
  },
  {
   "cell_type": "code",
   "execution_count": null,
   "id": "17b9af4c-091e-4891-9bee-3ba0d4ddb4e0",
   "metadata": {},
   "outputs": [],
   "source": [
    "# Setup model saving callback\n",
    "callback = TrainAndLoggingCallback(check_freq=10000, save_path=CHECKPOINT_DIR)"
   ]
  },
  {
   "cell_type": "code",
   "execution_count": null,
   "id": "29dc7383-8690-4f51-a2fa-87ec4a54b47a",
   "metadata": {},
   "outputs": [],
   "source": [
    "# This is the AI model started\n",
    "model = PPO('CnnPolicy', env, verbose=1, tensorboard_log=LOG_DIR, learning_rate=0.000001, \n",
    "            n_steps=512) "
   ]
  },
  {
   "cell_type": "code",
   "execution_count": null,
   "id": "89912a80-fc5d-481b-8c89-a0af91b792c3",
   "metadata": {},
   "outputs": [],
   "source": [
    "# Train the AI model, this is where the AI model starts to learn\n",
    "model.learn(total_timesteps=1000000, callback=callback)"
   ]
  },
  {
   "cell_type": "code",
   "execution_count": null,
   "id": "2a30fede-3c8d-4e98-83d2-6077cd0e3f3f",
   "metadata": {},
   "outputs": [],
   "source": [
    "model.save('thisisatestmodel')"
   ]
  },
  {
   "cell_type": "markdown",
   "id": "71252afe-de88-4ba9-8ead-6862d2da4ee3",
   "metadata": {},
   "source": [
    "## 4. Testing"
   ]
  },
  {
   "cell_type": "code",
   "execution_count": null,
   "id": "95679a29-64a4-4ff1-bd92-0e30c22e2e65",
   "metadata": {},
   "outputs": [],
   "source": [
    "# Load model\n",
    "model = PPO.load('./train/best_model_1000000')"
   ]
  },
  {
   "cell_type": "code",
   "execution_count": null,
   "id": "515ed3f2-bcd3-477c-8efe-6d1ed4aee977",
   "metadata": {},
   "outputs": [],
   "source": [
    "state = env.reset()"
   ]
  },
  {
   "cell_type": "code",
   "execution_count": null,
   "id": "b2a07813-de71-4ce4-bd96-9734f6dca11a",
   "metadata": {},
   "outputs": [],
   "source": [
    "# Start the game \n",
    "state = env.reset()\n",
    "# Loop through the game\n",
    "while True: \n",
    "    \n",
    "    action, _ = model.predict(state)\n",
    "    state, reward, done, info = env.step(action)\n",
    "    env.render()"
   ]
  },
  {
   "cell_type": "code",
   "execution_count": null,
   "id": "1dfbad7e-c15f-4268-8704-fe9a45dba7a2",
   "metadata": {},
   "outputs": [],
   "source": []
  },
  {
   "cell_type": "code",
   "execution_count": null,
   "id": "f128fdd3-6fca-4d8d-bd33-ffd0cc1b2802",
   "metadata": {},
   "outputs": [],
   "source": []
  }
 ],
 "metadata": {
  "kernelspec": {
   "display_name": "Python 3 (ipykernel)",
   "language": "python",
   "name": "python3"
  },
  "language_info": {
   "codemirror_mode": {
    "name": "ipython",
    "version": 3
   },
   "file_extension": ".py",
   "mimetype": "text/x-python",
   "name": "python",
   "nbconvert_exporter": "python",
   "pygments_lexer": "ipython3",
   "version": "3.9.7"
  }
 },
 "nbformat": 4,
 "nbformat_minor": 5
}
